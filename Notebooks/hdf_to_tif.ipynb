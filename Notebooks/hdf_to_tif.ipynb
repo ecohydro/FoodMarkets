{
 "cells": [
  {
   "cell_type": "code",
   "execution_count": 1,
   "metadata": {},
   "outputs": [],
   "source": [
    "import numpy as np\n",
    "import os\n",
    "import pandas as pd\n",
    "from osgeo import gdal\n",
    "import re\n",
    "import osr\n",
    "import rasterio\n",
    "from tqdm import tqdm"
   ]
  },
  {
   "cell_type": "code",
   "execution_count": 2,
   "metadata": {},
   "outputs": [],
   "source": [
    "# lst_hdf_dir = '/home/rgreen/FoodMarkets/Data/'\n",
    "# lst_tif_dir = '/home/rgreen/FoodMarkets/Data/MODIS_LST/'"
   ]
  },
  {
   "cell_type": "code",
   "execution_count": 3,
   "metadata": {},
   "outputs": [],
   "source": [
    "lst_hdf_dir = '/home/chc-MODIS/MYD11C1.006/daily/'\n",
    "lst_tif_dir = '/home/rgreen/tana-spin/rgreen/FoodMarkets/LST/'"
   ]
  },
  {
   "cell_type": "code",
   "execution_count": 4,
   "metadata": {},
   "outputs": [],
   "source": [
    "africa_extent = [-18, 40, 55, -40]"
   ]
  },
  {
   "cell_type": "code",
   "execution_count": 5,
   "metadata": {},
   "outputs": [],
   "source": [
    "def file_walk(in_dir, file_ext):\n",
    "    file_list = []\n",
    "    for (dirpath, dirnames, filenames) in os.walk(in_dir):\n",
    "        file_list += [os.path.join(dirpath, file) for file in filenames if file.endswith(file_ext)]\n",
    "    return sorted(file_list)"
   ]
  },
  {
   "cell_type": "code",
   "execution_count": 6,
   "metadata": {},
   "outputs": [],
   "source": [
    "lst_files = file_walk(lst_hdf_dir, '.hdf')"
   ]
  },
  {
   "cell_type": "code",
   "execution_count": 10,
   "metadata": {},
   "outputs": [
    {
     "data": {
      "text/plain": [
       "['/home/chc-MODIS/MYD11C1.006/daily/2002/MYD11C1.A2002185.006.2015168205342.hdf',\n",
       " '/home/chc-MODIS/MYD11C1.006/daily/2002/MYD11C1.A2002186.006.2015146153828.hdf',\n",
       " '/home/chc-MODIS/MYD11C1.006/daily/2002/MYD11C1.A2002187.006.2015146153817.hdf',\n",
       " '/home/chc-MODIS/MYD11C1.006/daily/2002/MYD11C1.A2002188.006.2015168205344.hdf',\n",
       " '/home/chc-MODIS/MYD11C1.006/daily/2002/MYD11C1.A2002189.006.2015146153815.hdf']"
      ]
     },
     "execution_count": 10,
     "metadata": {},
     "output_type": "execute_result"
    }
   ],
   "source": [
    "lst_files[:5]"
   ]
  },
  {
   "cell_type": "code",
   "execution_count": 77,
   "metadata": {},
   "outputs": [],
   "source": [
    "def hdf_to_tif(file_paths, layer, out_dir, year, extent):\n",
    "    \n",
    "    yr_file_paths = [i for i in file_paths if 'A' + year in i] \n",
    "    \n",
    "    for file_path in tqdm(yr_file_paths): \n",
    "            \n",
    "        hdf_ds = gdal.Open(file_path, gdal.GA_ReadOnly)\n",
    "        subdatasets = hdf_ds.GetSubDatasets()\n",
    "\n",
    "        for i, subds in enumerate(subdatasets):\n",
    "            string = subds[0]\n",
    "\n",
    "            if re.search(layer, string):\n",
    "                #print(string)\n",
    "                string_split = re.split(':',string)[2][1:-1]\n",
    "                #print(string_split)\n",
    "                pattern = \"MYD11C1.A(.*?)\\W\" #\\W searches for symbols\n",
    "                yr_doy = re.search(pattern, string_split).group(1)\n",
    "                #print(yr_doy)\n",
    "                band_ds = gdal.Open(string, gdal.GA_ReadOnly)\n",
    "                band_path = os.path.join(out_dir, year, layer + '_' + yr_doy + '.tif')\n",
    "                band_ds = gdal.Translate(band_path, band_ds, format = 'GTiff',\n",
    "                                         outputSRS = 'EPSG:4326', projWin = africa_extent, \n",
    "                                         creationOptions = ['COMPRESS=LZW', 'TILED=YES'])\n"
   ]
  },
  {
   "cell_type": "code",
   "execution_count": 35,
   "metadata": {},
   "outputs": [
    {
     "name": "stderr",
     "output_type": "stream",
     "text": [
      "100%|██████████| 171/171 [00:20<00:00,  8.18it/s]\n"
     ]
    }
   ],
   "source": [
    "hdf_to_tif(lst_files, 'LST_Day_CMG', lst_tif_dir, '2002', africa_extent)"
   ]
  },
  {
   "cell_type": "code",
   "execution_count": 51,
   "metadata": {},
   "outputs": [
    {
     "name": "stderr",
     "output_type": "stream",
     "text": [
      "100%|██████████| 365/365 [00:42<00:00,  8.57it/s]\n"
     ]
    }
   ],
   "source": [
    "hdf_to_tif(lst_files, 'LST_Day_CMG', lst_tif_dir, '2003', africa_extent)"
   ]
  },
  {
   "cell_type": "code",
   "execution_count": 38,
   "metadata": {},
   "outputs": [
    {
     "name": "stderr",
     "output_type": "stream",
     "text": [
      "100%|██████████| 366/366 [09:35<00:00,  1.57s/it]\n"
     ]
    }
   ],
   "source": [
    "hdf_to_tif(lst_files, 'LST_Day_CMG', lst_tif_dir, '2004', africa_extent)"
   ]
  },
  {
   "cell_type": "code",
   "execution_count": 43,
   "metadata": {},
   "outputs": [
    {
     "name": "stderr",
     "output_type": "stream",
     "text": [
      "100%|██████████| 365/365 [00:42<00:00,  8.67it/s]\n"
     ]
    }
   ],
   "source": [
    "hdf_to_tif(lst_files, 'LST_Day_CMG', lst_tif_dir, '2005', africa_extent)"
   ]
  },
  {
   "cell_type": "code",
   "execution_count": 44,
   "metadata": {},
   "outputs": [
    {
     "name": "stderr",
     "output_type": "stream",
     "text": [
      "100%|██████████| 365/365 [00:42<00:00,  8.68it/s]\n"
     ]
    }
   ],
   "source": [
    "hdf_to_tif(lst_files, 'LST_Day_CMG', lst_tif_dir, '2006', africa_extent)"
   ]
  },
  {
   "cell_type": "code",
   "execution_count": 45,
   "metadata": {},
   "outputs": [
    {
     "name": "stderr",
     "output_type": "stream",
     "text": [
      "100%|██████████| 365/365 [00:41<00:00,  8.71it/s]\n"
     ]
    }
   ],
   "source": [
    "hdf_to_tif(lst_files, 'LST_Day_CMG', lst_tif_dir, '2007', africa_extent)"
   ]
  },
  {
   "cell_type": "code",
   "execution_count": 52,
   "metadata": {},
   "outputs": [
    {
     "name": "stderr",
     "output_type": "stream",
     "text": [
      "100%|██████████| 366/366 [00:54<00:00,  6.75it/s]\n"
     ]
    }
   ],
   "source": [
    "hdf_to_tif(lst_files, 'LST_Day_CMG', lst_tif_dir, '2008', africa_extent)"
   ]
  },
  {
   "cell_type": "code",
   "execution_count": 53,
   "metadata": {},
   "outputs": [
    {
     "name": "stderr",
     "output_type": "stream",
     "text": [
      "100%|██████████| 365/365 [17:24<00:00,  2.86s/it]\n"
     ]
    }
   ],
   "source": [
    "hdf_to_tif(lst_files, 'LST_Day_CMG', lst_tif_dir, '2009', africa_extent)"
   ]
  },
  {
   "cell_type": "code",
   "execution_count": 54,
   "metadata": {},
   "outputs": [
    {
     "name": "stderr",
     "output_type": "stream",
     "text": [
      "100%|██████████| 365/365 [13:02<00:00,  2.14s/it]\n"
     ]
    }
   ],
   "source": [
    "hdf_to_tif(lst_files, 'LST_Day_CMG', lst_tif_dir, '2010', africa_extent)"
   ]
  },
  {
   "cell_type": "code",
   "execution_count": 55,
   "metadata": {},
   "outputs": [
    {
     "name": "stderr",
     "output_type": "stream",
     "text": [
      "100%|██████████| 365/365 [12:27<00:00,  2.05s/it]\n"
     ]
    }
   ],
   "source": [
    "hdf_to_tif(lst_files, 'LST_Day_CMG', lst_tif_dir, '2011', africa_extent)"
   ]
  },
  {
   "cell_type": "code",
   "execution_count": 56,
   "metadata": {},
   "outputs": [
    {
     "name": "stderr",
     "output_type": "stream",
     "text": [
      "100%|██████████| 366/366 [03:06<00:00,  1.96it/s]\n"
     ]
    }
   ],
   "source": [
    "hdf_to_tif(lst_files, 'LST_Day_CMG', lst_tif_dir, '2012', africa_extent)"
   ]
  },
  {
   "cell_type": "code",
   "execution_count": 57,
   "metadata": {},
   "outputs": [
    {
     "name": "stderr",
     "output_type": "stream",
     "text": [
      "100%|██████████| 365/365 [03:00<00:00,  2.02it/s]\n"
     ]
    }
   ],
   "source": [
    "hdf_to_tif(lst_files, 'LST_Day_CMG', lst_tif_dir, '2013', africa_extent)"
   ]
  },
  {
   "cell_type": "code",
   "execution_count": 58,
   "metadata": {},
   "outputs": [
    {
     "name": "stderr",
     "output_type": "stream",
     "text": [
      "100%|██████████| 365/365 [03:01<00:00,  2.01it/s]\n"
     ]
    }
   ],
   "source": [
    "hdf_to_tif(lst_files, 'LST_Day_CMG', lst_tif_dir, '2014', africa_extent)"
   ]
  },
  {
   "cell_type": "code",
   "execution_count": 59,
   "metadata": {},
   "outputs": [
    {
     "name": "stderr",
     "output_type": "stream",
     "text": [
      "100%|██████████| 365/365 [02:58<00:00,  2.04it/s]\n"
     ]
    }
   ],
   "source": [
    "hdf_to_tif(lst_files, 'LST_Day_CMG', lst_tif_dir, '2015', africa_extent)"
   ]
  },
  {
   "cell_type": "code",
   "execution_count": 60,
   "metadata": {},
   "outputs": [
    {
     "name": "stderr",
     "output_type": "stream",
     "text": [
      "100%|██████████| 361/361 [02:53<00:00,  2.08it/s]\n"
     ]
    }
   ],
   "source": [
    "hdf_to_tif(lst_files, 'LST_Day_CMG', lst_tif_dir, '2016', africa_extent)"
   ]
  },
  {
   "cell_type": "code",
   "execution_count": 61,
   "metadata": {},
   "outputs": [
    {
     "name": "stderr",
     "output_type": "stream",
     "text": [
      "100%|██████████| 366/366 [02:50<00:00,  2.14it/s]\n"
     ]
    }
   ],
   "source": [
    "hdf_to_tif(lst_files, 'LST_Day_CMG', lst_tif_dir, '2017', africa_extent)"
   ]
  },
  {
   "cell_type": "code",
   "execution_count": 62,
   "metadata": {},
   "outputs": [
    {
     "name": "stderr",
     "output_type": "stream",
     "text": [
      "100%|██████████| 378/378 [02:47<00:00,  2.26it/s]\n"
     ]
    }
   ],
   "source": [
    "hdf_to_tif(lst_files, 'LST_Day_CMG', lst_tif_dir, '2018', africa_extent)"
   ]
  },
  {
   "cell_type": "code",
   "execution_count": 63,
   "metadata": {},
   "outputs": [
    {
     "name": "stderr",
     "output_type": "stream",
     "text": [
      "100%|██████████| 366/366 [02:58<00:00,  2.05it/s]\n"
     ]
    }
   ],
   "source": [
    "hdf_to_tif(lst_files, 'LST_Day_CMG', lst_tif_dir, '2019', africa_extent)"
   ]
  },
  {
   "cell_type": "code",
   "execution_count": 78,
   "metadata": {},
   "outputs": [
    {
     "name": "stderr",
     "output_type": "stream",
     "text": [
      "100%|██████████| 377/377 [01:14<00:00,  5.08it/s]\n"
     ]
    }
   ],
   "source": [
    "hdf_to_tif(lst_files, 'LST_Day_CMG', lst_tif_dir, '2020', africa_extent)"
   ]
  },
  {
   "cell_type": "code",
   "execution_count": 79,
   "metadata": {},
   "outputs": [
    {
     "name": "stderr",
     "output_type": "stream",
     "text": [
      "100%|██████████| 68/68 [00:26<00:00,  2.61it/s]\n"
     ]
    }
   ],
   "source": [
    "hdf_to_tif(lst_files, 'LST_Day_CMG', lst_tif_dir, '2021', africa_extent)"
   ]
  },
  {
   "cell_type": "code",
   "execution_count": null,
   "metadata": {},
   "outputs": [],
   "source": []
  },
  {
   "cell_type": "markdown",
   "metadata": {},
   "source": [
    "# EXTRA"
   ]
  },
  {
   "cell_type": "code",
   "execution_count": null,
   "metadata": {},
   "outputs": [],
   "source": [
    "# #                     if band_ds.RasterCount > 1:\n",
    "#                         for j in range(1,band_ds.RasterCount + 1):\n",
    "#                             band = band_ds.GetRasterBand(j)\n",
    "#                             band_array = band.ReadAsArray()\n",
    "\n",
    "#                     else:\n",
    "#                         band_array = band_ds.ReadAsArray()\n",
    "#                     driver = gdal.GetDriverByName('GTiff')\n",
    "#                     outRaster = driver.Create(band_path,\n",
    "#                                                   band_ds.RasterXSize,\n",
    "#                                                   band_ds.RasterYSize,\n",
    "#                                                   1,\n",
    "#                                                   gdal.GDT_Int16,\n",
    "#                                                   ['COMPRESS=LZW', 'TILED=YES'])\n",
    "#                     outRaster.SetGeoTransform(band_ds.GetGeoTransform())\n",
    "#                     outRasterSRS = osr.SpatialReference()\n",
    "#                     outRasterSRS.ImportFromEPSG(4326)\n",
    "#                     outRaster.SetProjection(outRasterSRS.ExportToWkt())\n",
    "#                     outRaster.GetRasterBand(1).WriteArray(band_array)\n",
    "\n",
    "                "
   ]
  }
 ],
 "metadata": {
  "kernelspec": {
   "display_name": "geo",
   "language": "python",
   "name": "geo"
  },
  "language_info": {
   "codemirror_mode": {
    "name": "ipython",
    "version": 3
   },
   "file_extension": ".py",
   "mimetype": "text/x-python",
   "name": "python",
   "nbconvert_exporter": "python",
   "pygments_lexer": "ipython3",
   "version": "3.8.2"
  },
  "toc": {
   "base_numbering": 1,
   "nav_menu": {},
   "number_sections": true,
   "sideBar": true,
   "skip_h1_title": false,
   "title_cell": "Table of Contents",
   "title_sidebar": "Contents",
   "toc_cell": false,
   "toc_position": {},
   "toc_section_display": true,
   "toc_window_display": false
  }
 },
 "nbformat": 4,
 "nbformat_minor": 4
}
